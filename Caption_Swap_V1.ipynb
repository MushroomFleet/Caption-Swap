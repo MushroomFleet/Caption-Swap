{
  "cells": [
    {
      "cell_type": "markdown",
      "metadata": {
        "id": "view-in-github",
        "colab_type": "text"
      },
      "source": [
        "<a href=\"https://colab.research.google.com/github/MushroomFleet/Caption-Swap/blob/main/Caption_Swap_V1.ipynb\" target=\"_parent\"><img src=\"https://colab.research.google.com/assets/colab-badge.svg\" alt=\"Open In Colab\"/></a>"
      ]
    },
    {
      "cell_type": "markdown",
      "source": [
        "[![ko-fi](https://img.shields.io/badge/Support%20me%20on%20Ko--fi-F16061?logo=ko-fi&logoColor=white&style=flat)](https://ko-fi.com/driftjohnson)\n",
        "\n",
        "# **Johnsons Tools / Colab Notebooks For Augmented Productivity**"
      ],
      "metadata": {
        "id": "Kr0y0ui5iw_2"
      }
    },
    {
      "cell_type": "markdown",
      "source": [
        "| Notebook Name | Description | Link |\n",
        "| --- | --- | --- | \n",
        "| [Caption Append](https://github.com/MushroomFleet/Caption-Append) | Caption Append | [![](https://img.shields.io/static/v1?message=Open%20in%20Colab&logo=googlecolab&labelColor=5c5c5c&color=0f80c1&label=%20&style=flat)](https://colab.research.google.com/github/MushroomFleet/Caption-Append/blob/main/Caption_Append_V1.ipynb) |\n",
        "| [Caption Concat](https://github.com/MushroomFleet/Caption-Concat) | Caption Concat | [![](https://img.shields.io/static/v1?message=Open%20in%20Colab&logo=googlecolab&labelColor=5c5c5c&color=0f80c1&label=%20&style=flat)](https://colab.research.google.com/github/MushroomFleet/Caption-Concat/blob/main/Caption_Concat_V1_2.ipynb) |\n",
        "| [Caption Stripper](https://github.com/MushroomFleet/Caption-Stripper) | Caption Stripper | [![](https://img.shields.io/static/v1?message=Open%20in%20Colab&logo=googlecolab&labelColor=5c5c5c&color=0f80c1&label=%20&style=flat)](https://colab.research.google.com/github/MushroomFleet/Caption-Stripper/blob/main/Caption_Stripper_V1.ipynb) |\n",
        "| [Caption Swap](https://github.com/MushroomFleet/Caption-Swap) | Caption Swap | [![](https://img.shields.io/static/v1?message=Open%20in%20Colab&logo=googlecolab&labelColor=5c5c5c&color=0f80c1&label=%20&style=flat)](https://colab.research.google.com/github/MushroomFleet/Caption-Swap/blob/main/Caption_Swap_V1.ipynb) | \n",
        "| [Reverse Coco](https://github.com/MushroomFleet/Reverse-Coco) | Reverse Coco | [![](https://img.shields.io/static/v1?message=Open%20in%20Colab&logo=googlecolab&labelColor=5c5c5c&color=0f80c1&label=%20&style=flat)](https://colab.research.google.com/github/MushroomFleet/Reverse-Coco/blob/main/ReverseCocoV1.ipynb) | \n",
        "| [FFXFade-o-rama](https://github.com/MushroomFleet/FFXFADE-O-RAMA) | FFX Fade o rama | [![](https://img.shields.io/static/v1?message=Open%20in%20Colab&logo=googlecolab&labelColor=5c5c5c&color=0f80c1&label=%20&style=flat)](https://colab.research.google.com/github/MushroomFleet/FFXFADE-O-RAMA/blob/main/djz_FFXFADE_O_RAMA.ipynb) | \n",
        "| [Deforum Tools](https://github.com/MushroomFleet/Deforum-Sequence-Tools) | Deforum Tools | [![](https://img.shields.io/static/v1?message=Open%20in%20Colab&logo=googlecolab&labelColor=5c5c5c&color=0f80c1&label=%20&style=flat)](https://colab.research.google.com/github/MushroomFleet/Deforum-Sequence-Tools/blob/main/Deforum_Sequence_ToolsV1.ipynb) | "
      ],
      "metadata": {
        "id": "wkpUUxP-jahC"
      }
    },
    {
      "cell_type": "markdown",
      "metadata": {
        "id": "1lJFS3DwxNGU"
      },
      "source": [
        "Add Path to Dataset and Run.\n",
        "\n",
        "I built this to save time in replacing erroneous captions that appear in my datasets as one action.\n",
        "\n",
        "Swap **word1** for **word2**\n",
        "\n",
        "###**Google Drive Sync & setup**"
      ]
    },
    {
      "cell_type": "code",
      "source": [
        "from google.colab import drive\n",
        "drive.mount('/content/drive')\n"
      ],
      "metadata": {
        "colab": {
          "base_uri": "https://localhost:8080/"
        },
        "id": "jkewPHxopHL7",
        "outputId": "035e0c97-6508-44ea-fff9-7684c618e025"
      },
      "execution_count": null,
      "outputs": [
        {
          "output_type": "stream",
          "name": "stdout",
          "text": [
            "Mounted at /content/drive\n"
          ]
        }
      ]
    },
    {
      "cell_type": "markdown",
      "source": [
        "# PATHS & CONFIG"
      ],
      "metadata": {
        "id": "qroadFOacSiS"
      }
    },
    {
      "cell_type": "code",
      "source": [
        "import os\n",
        "import re\n",
        "\n",
        "# Define the directory path to scan\n",
        "dir_path = \"/content/drive/MyDrive/PATH\"  # @param {type:'string'}\n"
      ],
      "metadata": {
        "id": "GolU2UCWmzwQ",
        "cellView": "form"
      },
      "execution_count": null,
      "outputs": []
    },
    {
      "cell_type": "markdown",
      "source": [
        "Currently only one word can be swapped to another single word, without spaces or punctuation."
      ],
      "metadata": {
        "id": "w7wfRcyShzPP"
      }
    },
    {
      "cell_type": "code",
      "source": [
        "# Define the words to be replaced\n",
        "word1 = \"girl\"  # @param {type:'string'}\n",
        "word2 = \"woman\"  # @param {type:'string'}"
      ],
      "metadata": {
        "cellView": "form",
        "id": "fVDZZTtehZcE"
      },
      "execution_count": null,
      "outputs": []
    },
    {
      "cell_type": "markdown",
      "metadata": {
        "id": "TWZCMNd95ef7"
      },
      "source": [
        "# Run Caption Swap"
      ]
    },
    {
      "cell_type": "code",
      "source": [
        "# Loop through all directories and files in the directory path\n",
        "for root, dirs, files in os.walk(dir_path):\n",
        "    for file in files:\n",
        "        # Check if the file is a text file\n",
        "        if file.endswith(\".txt\"):\n",
        "            # Read the file and split it into lines\n",
        "            with open(os.path.join(root, file), \"r\") as f:\n",
        "                lines = f.readlines()\n",
        "\n",
        "            # Check if the file has any lines\n",
        "            if not lines:\n",
        "                continue\n",
        "\n",
        "            # Edit the first line of the text file\n",
        "            first_line = lines[0]\n",
        "            print(f\"Old first line: {first_line}\")\n",
        "            pattern = r\"\\b\" + word1 + r\"\\b\"\n",
        "            if len(first_line) >= len(word1):\n",
        "                match = re.search(pattern, first_line)\n",
        "                if match:\n",
        "                    index = match.start()\n",
        "                    first_line = first_line[:index] + word2 + first_line[index+len(word1):]\n",
        "            print(f\"New first line: {first_line}\")\n",
        "\n",
        "            # Write the modified first line back to the file\n",
        "            with open(os.path.join(root, file), \"w\") as f:\n",
        "                f.write(first_line)\n",
        "                if not first_line.endswith(\"\\n\"):\n",
        "                    f.write(\"\\n\")\n",
        "                print(f\"Updated {file} with new first line.\")"
      ],
      "metadata": {
        "colab": {
          "base_uri": "https://localhost:8080/"
        },
        "id": "guVNak3Cyi_n",
        "outputId": "486c1c7c-b40e-468a-ca11-322c7d7f1fc4"
      },
      "execution_count": null,
      "outputs": [
        {
          "output_type": "stream",
          "name": "stdout",
          "text": [
            "Old first line: WonderlandLady style, a painting of a woman standing in front of a sky filled with jelly\n",
            "\n",
            "New first line: WonderlandLady style, a painting of a woman standing in front of a sky filled with jelly\n",
            "\n",
            "Updated WonderlandLady (6).txt with new first line.\n",
            "Old first line: WonderlandLady style, a painting of a woman standing in front of a body of water\n",
            "\n",
            "New first line: WonderlandLady style, a painting of a woman standing in front of a body of water\n",
            "\n",
            "Updated WonderlandLady (7).txt with new first line.\n",
            "Old first line: WonderlandLady style, an image of a woman standing in front of a painting\n",
            "\n",
            "New first line: WonderlandLady style, an image of a woman standing in front of a painting\n",
            "\n",
            "Updated WonderlandLady (8).txt with new first line.\n",
            "Old first line: WonderlandLady style, a painting of a woman walking through a tunnel\n",
            "\n",
            "New first line: WonderlandLady style, a painting of a woman walking through a tunnel\n",
            "\n",
            "Updated WonderlandLady (9).txt with new first line.\n",
            "Old first line: WonderlandLady style, a painting of a woman standing at the end of a set of stairs\n",
            "\n",
            "New first line: WonderlandLady style, a painting of a woman standing at the end of a set of stairs\n",
            "\n",
            "Updated WonderlandLady (10).txt with new first line.\n",
            "Old first line: WonderlandLady style, a painting of a little woman standing in the middle of a forest\n",
            "\n",
            "New first line: WonderlandLady style, a painting of a pretty woman standing in the middle of a forest\n",
            "\n",
            "Updated WonderlandLady (11).txt with new first line.\n",
            "Old first line: WonderlandLady style, a painting of a woman standing in the middle of a forest\n",
            "\n",
            "New first line: WonderlandLady style, a painting of a woman standing in the middle of a forest\n",
            "\n",
            "Updated WonderlandLady (12).txt with new first line.\n",
            "Old first line: WonderlandLady style, a painting of a little woman standing in the middle of a forest\n",
            "\n",
            "New first line: WonderlandLady style, a painting of a pretty woman standing in the middle of a forest\n",
            "\n",
            "Updated WonderlandLady (13).txt with new first line.\n",
            "Old first line: WonderlandLady style, a painting of a woman in a white dress standing in the middle of\n",
            "\n",
            "New first line: WonderlandLady style, a painting of a woman in a white dress standing in the middle of\n",
            "\n",
            "Updated WonderlandLady (14).txt with new first line.\n",
            "Old first line: WonderlandLady style, a painting of a woman walking through a forest filled with mushrooms\n",
            "\n",
            "New first line: WonderlandLady style, a painting of a woman walking through a forest filled with mushrooms\n",
            "\n",
            "Updated WonderlandLady (15).txt with new first line.\n",
            "Old first line: WonderlandLady style, a painting of a group of people in the middle of a forest\n",
            "\n",
            "New first line: WonderlandLady style, a painting of a group of people in the middle of a forest\n",
            "\n",
            "Updated WonderlandLady (16).txt with new first line.\n",
            "Old first line: WonderlandLady style, a painting of a woman standing in the middle of a forest\n",
            "\n",
            "New first line: WonderlandLady style, a painting of a woman standing in the middle of a forest\n",
            "\n",
            "Updated WonderlandLady (17).txt with new first line.\n",
            "Old first line: WonderlandLady style, a painting of a woman walking through a forest filled with mushrooms\n",
            "\n",
            "New first line: WonderlandLady style, a painting of a woman walking through a forest filled with mushrooms\n",
            "\n",
            "Updated WonderlandLady (18).txt with new first line.\n",
            "Old first line: WonderlandLady style, a painting of a man and a woman in the middle of a forest\n",
            "\n",
            "New first line: WonderlandLady style, a painting of a man and a woman in the middle of a forest\n",
            "\n",
            "Updated WonderlandLady (19).txt with new first line.\n",
            "Old first line: WonderlandLady style, a painting of a woman walking down a path surrounded by mushrooms\n",
            "\n",
            "New first line: WonderlandLady style, a painting of a woman walking down a path surrounded by mushrooms\n",
            "\n",
            "Updated WonderlandLady (1).txt with new first line.\n",
            "Old first line: WonderlandLady style, a painting of a woman standing in the middle of a tunnel\n",
            "\n",
            "New first line: WonderlandLady style, a painting of a woman standing in the middle of a tunnel\n",
            "\n",
            "Updated WonderlandLady (2).txt with new first line.\n",
            "Old first line: WonderlandLady style, a painting of a man in a top hat walking through a forest\n",
            "\n",
            "New first line: WonderlandLady style, a painting of a man in a top hat walking through a forest\n",
            "\n",
            "Updated WonderlandLady (3).txt with new first line.\n",
            "Old first line: WonderlandLady style, a painting of a woman standing in the middle of a tunnel of mushrooms\n",
            "\n",
            "New first line: WonderlandLady style, a painting of a woman standing in the middle of a tunnel of mushrooms\n",
            "\n",
            "Updated WonderlandLady (4).txt with new first line.\n",
            "Old first line: WonderlandLady style, a painting of a little woman standing in the middle of a forest\n",
            "\n",
            "New first line: WonderlandLady style, a painting of a pretty woman standing in the middle of a forest\n",
            "\n",
            "Updated WonderlandLady (5).txt with new first line.\n"
          ]
        }
      ]
    }
  ],
  "metadata": {
    "colab": {
      "provenance": [],
      "toc_visible": true,
      "collapsed_sections": [
        "1lJFS3DwxNGU",
        "TWZCMNd95ef7"
      ],
      "include_colab_link": true
    },
    "gpuClass": "standard",
    "kernelspec": {
      "display_name": "Python 3",
      "name": "python3"
    },
    "language_info": {
      "name": "python"
    }
  },
  "nbformat": 4,
  "nbformat_minor": 0
}